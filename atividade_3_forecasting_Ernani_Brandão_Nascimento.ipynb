{
  "nbformat": 4,
  "nbformat_minor": 0,
  "metadata": {
    "colab": {
      "provenance": [],
      "authorship_tag": "ABX9TyMUZiv2GnXU0+dqHTvO1adg",
      "include_colab_link": true
    },
    "kernelspec": {
      "name": "python3",
      "display_name": "Python 3"
    },
    "language_info": {
      "name": "python"
    }
  },
  "cells": [
    {
      "cell_type": "markdown",
      "metadata": {
        "id": "view-in-github",
        "colab_type": "text"
      },
      "source": [
        "<a href=\"https://colab.research.google.com/github/ernanibn/redes_neurais_artificiais/blob/main/atividade_3_forecasting_Ernani_Brand%C3%A3o_Nascimento.ipynb\" target=\"_parent\"><img src=\"https://colab.research.google.com/assets/colab-badge.svg\" alt=\"Open In Colab\"/></a>"
      ]
    },
    {
      "cell_type": "code",
      "source": [
        "# Download the dataset\n",
        "!kaggle datasets download -d nicholasjhana/energy-consumption-generation-prices-and-weather\n",
        "\n",
        "# Unzip the downloaded dataset\n",
        "!unzip energy-consumption-generation-prices-and-weather.zip"
      ],
      "metadata": {
        "colab": {
          "base_uri": "https://localhost:8080/"
        },
        "id": "31b9pVCx9Rnj",
        "outputId": "4853307b-cf59-4df8-9120-ea09aacb432d"
      },
      "execution_count": null,
      "outputs": [
        {
          "output_type": "stream",
          "name": "stdout",
          "text": [
            "Dataset URL: https://www.kaggle.com/datasets/nicholasjhana/energy-consumption-generation-prices-and-weather\n",
            "License(s): CC0-1.0\n",
            "Downloading energy-consumption-generation-prices-and-weather.zip to /content\n",
            "  0% 0.00/3.81M [00:00<?, ?B/s]\n",
            "100% 3.81M/3.81M [00:00<00:00, 166MB/s]\n",
            "Archive:  energy-consumption-generation-prices-and-weather.zip\n",
            "  inflating: energy_dataset.csv      \n",
            "  inflating: weather_features.csv    \n"
          ]
        }
      ]
    },
    {
      "cell_type": "code",
      "source": [
        "import os\n",
        "import numpy as np\n",
        "from matplotlib import pyplot as plt\n",
        "from tensorflow import keras\n",
        "from tensorflow.keras import layers"
      ],
      "metadata": {
        "id": "wjw6dECr9uZH"
      },
      "execution_count": null,
      "outputs": []
    },
    {
      "cell_type": "code",
      "source": [
        "fname = os.path.join(\"energy_dataset.csv\")\n",
        "with open(fname) as f:\n",
        "  data = f.read()\n",
        "lines = data.split('\\n')\n",
        "header = lines[0].split(',')\n",
        "lines = lines[1:]\n",
        "\n",
        "# Remover linhas totalmente vazias\n",
        "lines = [line for line in lines if line.strip()]\n",
        "\n",
        "header = header[1:]\n",
        "\n",
        "index_1 = header.index('generation hydro pumped storage aggregated')\n",
        "index_2 = header.index('generation wind offshore')-1\n",
        "index_3 = header.index('forecast wind offshore eday ahead')-2\n",
        "\n",
        "del header[index_1]\n",
        "del header[index_2]\n",
        "del header[index_3]\n",
        "\n",
        "print(header)\n",
        "print(len(lines))"
      ],
      "metadata": {
        "colab": {
          "base_uri": "https://localhost:8080/"
        },
        "id": "2Bv7oXIzG4bQ",
        "outputId": "3e1e397b-be04-4d5d-ea9e-39ebde157c8b"
      },
      "execution_count": null,
      "outputs": [
        {
          "output_type": "stream",
          "name": "stdout",
          "text": [
            "['generation biomass', 'generation fossil brown coal/lignite', 'generation fossil coal-derived gas', 'generation fossil gas', 'generation fossil hard coal', 'generation fossil oil', 'generation fossil oil shale', 'generation fossil peat', 'generation geothermal', 'generation hydro pumped storage consumption', 'generation hydro run-of-river and poundage', 'generation hydro water reservoir', 'generation marine', 'generation nuclear', 'generation other', 'generation other renewable', 'generation solar', 'generation waste', 'generation wind onshore', 'forecast solar day ahead', 'forecast wind onshore day ahead', 'total load forecast', 'total load actual', 'price day ahead', 'price actual']\n",
            "35064\n"
          ]
        }
      ]
    },
    {
      "cell_type": "code",
      "source": [
        "# Número de linhas de dados\n",
        "num_lines = len(lines)\n",
        "\n",
        "# Função para limpar e converter valor para float\n",
        "def clean_and_convert(value):\n",
        "    # Remover espaços em branco, aspas duplas e símbolo de porcentagem (%)\n",
        "    cleaned_value = value.replace('\"', '').replace('%', '').strip()\n",
        "    # return float(cleaned_value)\n",
        "    if cleaned_value == '':\n",
        "      x = None\n",
        "    else:\n",
        "      x = float(cleaned_value)\n",
        "    return x  # Converter para float\n",
        "\n",
        "# Inicializar arrays para temperatura (target) e dados brutos\n",
        "price = np.zeros(num_lines)\n",
        "raw_data = np.zeros((num_lines, len(header)-1))  # Excluindo o campo 'Price' da matriz de dados\n",
        "\n",
        "j=0\n",
        "index_to_remove = []\n",
        "for i, line in enumerate(lines):\n",
        "#     # Dividir a linha em valores separados por vírgula\n",
        "    values = line.split(',')[1:]  # Ignorar os dois primeiros valores\n",
        "\n",
        "#     # Limpar e converter cada valor para float\n",
        "    cleaned_values = [clean_and_convert(val) for val in values]\n",
        "    del cleaned_values[index_1]\n",
        "    del cleaned_values[index_2]\n",
        "    del cleaned_values[index_3]\n",
        "    if any(x is None for x in cleaned_values):\n",
        "      index_to_remove += [i]\n",
        "    else:\n",
        "  #     # Armazenar o valor 'Price' na array temperature\n",
        "      price[j] = cleaned_values[len(cleaned_values)-1]  # 'Price' é o primeiro valor na lista 'cleaned_values'\n",
        "  #     # Armazenar os outros valores na matriz raw_data\n",
        "      raw_data[j, :] = cleaned_values[:len(cleaned_values)-1]  # Excluir o 'Price' e armazenar os demais valores\n",
        "      j+=1\n",
        "    # test_raw.append(cleaned_values[:])\n",
        "\n",
        "\n",
        "# # # Verificar as dimensões finais dos dados\n",
        "print(\"Dimensão da price (target):\", price.shape)\n",
        "price = price[price != 0]\n",
        "print(\"Dimensão da price (target):\", price.shape)\n",
        "print(\"Dimensão dos dados brutos:\", raw_data.shape)\n",
        "\n",
        "# Gerar uma lista de índices das linhas que serão mantidas\n",
        "indices_para_manter = [i for i in range(raw_data.shape[0]) if i not in index_to_remove]\n",
        "# Criar uma nova matriz contendo apenas as linhas que você deseja manter\n",
        "raw_data = raw_data[indices_para_manter]\n",
        "print(\"Dimensão dos dados brutos:\", raw_data.shape)\n",
        "\n",
        "index_1 = header.index('generation fossil coal-derived gas')\n",
        "index_2 = header.index('generation fossil oil shale')\n",
        "index_3 = header.index('generation fossil peat')\n",
        "index_4 = header.index('generation geothermal')\n",
        "index_5 = header.index('generation marine')\n",
        "\n",
        "del header[index_1]\n",
        "del header[index_2]\n",
        "del header[index_3]\n",
        "del header[index_4]\n",
        "del header[index_5]\n",
        "\n",
        "media_colunas = np.mean(raw_data, axis=0)\n",
        "print(media_colunas)\n",
        "\n",
        "# Índice da coluna que você deseja remover\n",
        "indice_coluna_remover = [index_1, index_2, index_3, index_4, index_5]\n",
        "\n",
        "# Criar uma nova matriz sem a coluna especificada\n",
        "raw_data = np.delete(raw_data, indice_coluna_remover, axis=1)\n",
        "media_colunas = np.mean(raw_data, axis=0)\n",
        "print(media_colunas)\n",
        "\n"
      ],
      "metadata": {
        "colab": {
          "base_uri": "https://localhost:8080/"
        },
        "id": "8Z3mQ-JiKESd",
        "outputId": "7f3655fc-f1ba-4b63-a52b-1e5075e63dcc"
      },
      "execution_count": null,
      "outputs": [
        {
          "output_type": "stream",
          "name": "stdout",
          "text": [
            "Dimensão da price (target): (35064,)\n",
            "Dimensão da price (target): (35017,)\n",
            "Dimensão dos dados brutos: (35064, 24)\n",
            "Dimensão dos dados brutos: (35017, 24)\n",
            "[  382.96778707   447.5966245      0.          5615.03892395\n",
            "  4249.39817803   297.9293486      0.             0.\n",
            "     0.           475.30142502   970.54927607  2600.23922666\n",
            "     0.          6255.90016278    60.15518177    85.54879059\n",
            "  1430.69900334   269.2195505   5458.22794643  1436.84870206\n",
            "  5463.98466459 28671.22466231 28657.02524488    49.80253277]\n",
            "[  382.96778707   447.5966245   5615.03892395  4249.39817803\n",
            "   297.9293486    475.30142502   970.54927607  2600.23922666\n",
            "  6255.90016278    60.15518177    85.54879059  1430.69900334\n",
            "   269.2195505   5458.22794643  1436.84870206  5463.98466459\n",
            " 28671.22466231 28657.02524488    49.80253277]\n"
          ]
        }
      ]
    },
    {
      "cell_type": "code",
      "source": [
        "plt.plot(range(len(price)), price)"
      ],
      "metadata": {
        "colab": {
          "base_uri": "https://localhost:8080/",
          "height": 447
        },
        "id": "0cviBmapXIsM",
        "outputId": "402abf64-5b30-4321-9985-c212290cc1b5"
      },
      "execution_count": null,
      "outputs": [
        {
          "output_type": "execute_result",
          "data": {
            "text/plain": [
              "[<matplotlib.lines.Line2D at 0x780f7f41a050>]"
            ]
          },
          "metadata": {},
          "execution_count": 204
        },
        {
          "output_type": "display_data",
          "data": {
            "text/plain": [
              "<Figure size 640x480 with 1 Axes>"
            ],
            "image/png": "[encoded data removed]"
          },
          "metadata": {}
        }
      ]
    },
    {
      "cell_type": "code",
      "source": [
        "num_train_samples = int(0.5 * len(raw_data))\n",
        "num_val_samples = int(0.25 * len(raw_data))\n",
        "num_test_samples = len(raw_data) - num_train_samples - num_val_samples\n",
        "(num_train_samples, num_val_samples, num_test_samples)"
      ],
      "metadata": {
        "colab": {
          "base_uri": "https://localhost:8080/"
        },
        "id": "Ytw5yVQEYgB9",
        "outputId": "5de3cc33-09de-4a24-c9a5-c3190d1d2acc"
      },
      "execution_count": null,
      "outputs": [
        {
          "output_type": "execute_result",
          "data": {
            "text/plain": [
              "(17508, 8754, 8755)"
            ]
          },
          "metadata": {},
          "execution_count": 205
        }
      ]
    },
    {
      "cell_type": "code",
      "source": [
        "mean = raw_data[:num_train_samples].mean(axis=0)\n",
        "raw_data -= mean\n",
        "std = raw_data[:num_train_samples].std(axis=0)\n",
        "raw_data /= std"
      ],
      "metadata": {
        "id": "Qrg0EDOeYiiE"
      },
      "execution_count": null,
      "outputs": []
    },
    {
      "cell_type": "code",
      "source": [
        "sampling_rate = 6\n",
        "sequence_length = 120\n",
        "delay = sampling_rate * (sequence_length + 24 + 1)\n",
        "batch_size = 256\n",
        "train_dataset = keras.utils.timeseries_dataset_from_array(\n",
        "    raw_data[:-delay],\n",
        "    targets = price[delay:],\n",
        "    sampling_rate = sampling_rate,\n",
        "    sequence_length = sequence_length,\n",
        "    shuffle = True,\n",
        "    batch_size = batch_size,\n",
        "    end_index = num_train_samples)\n",
        "val_dataset = keras.utils.timeseries_dataset_from_array(\n",
        "    raw_data[:-delay],\n",
        "    targets = price[delay:],\n",
        "    sampling_rate = sampling_rate,\n",
        "    sequence_length = sequence_length,\n",
        "    shuffle = True,\n",
        "    batch_size = batch_size,\n",
        "    start_index = num_train_samples,\n",
        "    end_index = num_train_samples + num_val_samples)\n",
        "test_dataset = keras.utils.timeseries_dataset_from_array(\n",
        "    raw_data[:-delay],\n",
        "    targets = price[delay:],\n",
        "    sampling_rate = sampling_rate,\n",
        "    sequence_length = sequence_length,\n",
        "    shuffle = True,\n",
        "    batch_size = batch_size,\n",
        "    start_index = num_train_samples + num_val_samples)"
      ],
      "metadata": {
        "id": "rrvpAGn_YYjL"
      },
      "execution_count": null,
      "outputs": []
    },
    {
      "cell_type": "code",
      "source": [
        "for samples, targets in train_dataset:\n",
        "  print(\"samples shape\", samples.shape)\n",
        "  print(\"targets shape\", targets.shape)\n",
        "  break"
      ],
      "metadata": {
        "colab": {
          "base_uri": "https://localhost:8080/"
        },
        "id": "aNZ1emkaYyjE",
        "outputId": "1c0fb1ba-325b-4ddd-a897-5071c7dcdcb3"
      },
      "execution_count": null,
      "outputs": [
        {
          "output_type": "stream",
          "name": "stdout",
          "text": [
            "samples shape (256, 120, 19)\n",
            "targets shape (256,)\n"
          ]
        }
      ]
    },
    {
      "cell_type": "markdown",
      "source": [
        "## Baseline"
      ],
      "metadata": {
        "id": "OHteoMREY3Lz"
      }
    },
    {
      "cell_type": "code",
      "source": [
        "def evaluate_naive_method(dataset):\n",
        "  total_abs_err = 0.\n",
        "  samples_seen = 0\n",
        "  for samples, targets in dataset:\n",
        "    preds = samples[:, -1, 1] * std[1] + mean[1]\n",
        "    total_abs_err += np.sum(np.abs(preds - targets))\n",
        "    samples_seen += samples.shape[0]\n",
        "  return total_abs_err / samples_seen\n",
        "print(f\"Validation MAE: {evaluate_naive_method(val_dataset):.2f}\")\n",
        "print(f\"Test MAE: {evaluate_naive_method(test_dataset):.2f}\")"
      ],
      "metadata": {
        "colab": {
          "base_uri": "https://localhost:8080/"
        },
        "id": "XsRu-0t1Y5kM",
        "outputId": "591da887-4518-4685-d52d-c57ac0c30598"
      },
      "execution_count": null,
      "outputs": [
        {
          "output_type": "stream",
          "name": "stdout",
          "text": [
            "Validation MAE: 485.22\n",
            "Test MAE: 330.40\n"
          ]
        }
      ]
    },
    {
      "cell_type": "code",
      "source": [
        "inputs = keras.Input(shape=(sequence_length, raw_data.shape[-1]))\n",
        "x = layers.Flatten()(inputs)\n",
        "x = layers.Dense(16, activation=\"relu\")(x)\n",
        "outputs = layers.Dense(1)(x)\n",
        "model = keras.Model(inputs, outputs)\n",
        "\n",
        "callbacks = [\n",
        "    keras.callbacks.ModelCheckpoint(\"dollar_index_dense.keras\",\n",
        "                                    save_best_only=True)\n",
        "]\n",
        "model.compile(optimizer=\"rmsprop\", loss=\"mse\", metrics=['mae'])\n",
        "history = model.fit(train_dataset,\n",
        "                    epochs=10,\n",
        "                    validation_data = val_dataset,\n",
        "                    callbacks = callbacks)\n",
        "model = keras.models.load_model(\"dollar_index_dense.keras\")\n",
        "print(f\"Test MAE: {model.evaluate(test_dataset)[1]:.2f}\")"
      ],
      "metadata": {
        "colab": {
          "base_uri": "https://localhost:8080/"
        },
        "id": "nPiHDxD-4KZw",
        "outputId": "8b46b9e7-4a46-44b3-e9e6-93313b027a45"
      },
      "execution_count": null,
      "outputs": [
        {
          "output_type": "stream",
          "name": "stdout",
          "text": [
            "Epoch 1/10\n",
            "66/66 [==============================] - 5s 70ms/step - loss: 1338.0244 - mae: 32.1048 - val_loss: 301.5240 - val_mae: 14.8128\n",
            "Epoch 2/10\n",
            "66/66 [==============================] - 4s 51ms/step - loss: 176.4788 - mae: 10.1919 - val_loss: 661.2496 - val_mae: 23.0614\n",
            "Epoch 3/10\n",
            "66/66 [==============================] - 4s 55ms/step - loss: 62.5399 - mae: 6.1151 - val_loss: 622.3388 - val_mae: 22.0282\n",
            "Epoch 4/10\n",
            "66/66 [==============================] - 4s 57ms/step - loss: 42.8383 - mae: 5.0916 - val_loss: 692.1279 - val_mae: 23.4773\n",
            "Epoch 5/10\n",
            "66/66 [==============================] - 4s 54ms/step - loss: 33.2080 - mae: 4.4889 - val_loss: 702.9723 - val_mae: 23.5872\n",
            "Epoch 6/10\n",
            "66/66 [==============================] - 5s 71ms/step - loss: 27.3349 - mae: 4.0735 - val_loss: 689.2937 - val_mae: 23.2746\n",
            "Epoch 7/10\n",
            "66/66 [==============================] - 4s 52ms/step - loss: 23.5541 - mae: 3.7941 - val_loss: 741.5631 - val_mae: 24.0920\n",
            "Epoch 8/10\n",
            "66/66 [==============================] - 4s 52ms/step - loss: 21.0033 - mae: 3.5856 - val_loss: 691.6918 - val_mae: 23.0482\n",
            "Epoch 9/10\n",
            "66/66 [==============================] - 6s 86ms/step - loss: 18.7693 - mae: 3.3869 - val_loss: 593.7847 - val_mae: 20.9235\n",
            "Epoch 10/10\n",
            "66/66 [==============================] - 4s 50ms/step - loss: 17.3623 - mae: 3.2575 - val_loss: 618.4459 - val_mae: 21.3802\n",
            "29/29 [==============================] - 1s 26ms/step - loss: 757.1182 - mae: 24.8242\n",
            "Test MAE: 24.82\n"
          ]
        }
      ]
    },
    {
      "cell_type": "code",
      "source": [
        "loss = history.history[\"mae\"]\n",
        "val_loss = history.history[\"val_mae\"]\n",
        "epochs = range(1, len(loss)+1)\n",
        "plt.figure()\n",
        "plt.plot(epochs, loss, \"bo\", label=\"Training MAE\")\n",
        "plt.plot(epochs, val_loss, \"b\", label=\"Validation MAE\")\n",
        "plt.title(\"Training and Validation MAE\")\n",
        "plt.legend()\n",
        "plt.show()"
      ],
      "metadata": {
        "colab": {
          "base_uri": "https://localhost:8080/",
          "height": 452
        },
        "id": "skhlj4Gw4WDF",
        "outputId": "32e41be5-2bdc-4c38-fe8c-a8760c3ee07c"
      },
      "execution_count": null,
      "outputs": [
        {
          "output_type": "display_data",
          "data": {
            "text/plain": [
              "<Figure size 640x480 with 1 Axes>"
            ],
            "image/png": "[encoded data removed]"
          },
          "metadata": {}
        }
      ]
    },
    {
      "cell_type": "code",
      "source": [
        "inputs = keras.Input(shape=(sequence_length, raw_data.shape[-1]))\n",
        "x = layers.Conv1D(8, 24, activation=\"relu\")(inputs)\n",
        "x = layers.MaxPooling1D(2)(x)\n",
        "x = layers.Conv1D(8, 12, activation=\"relu\")(x)\n",
        "x = layers.MaxPooling1D(2)(x)\n",
        "x = layers.Conv1D(8, 6, activation=\"relu\")(x)\n",
        "x = layers.GlobalAveragePooling1D()(x)\n",
        "outputs = layers.Dense(1)(x)\n",
        "model = keras.Model(inputs, outputs)\n",
        "\n",
        "callbacks = [\n",
        "    keras.callbacks.ModelCheckpoint(\"dollar_index_conv.keras\",\n",
        "                                    save_best_only=True)\n",
        "]\n",
        "model.compile(optimizer=\"rmsprop\", loss=\"mse\", metrics=['mae'])\n",
        "history = model.fit(train_dataset,\n",
        "                    epochs=10,\n",
        "                    validation_data = val_dataset,\n",
        "                    callbacks = callbacks)\n",
        "model = keras.models.load_model(\"dollar_index_conv.keras\")\n",
        "print(f\"Test MAE: {model.evaluate(test_dataset)[1]:.2f}\")"
      ],
      "metadata": {
        "id": "lTUijksZ4lcS",
        "colab": {
          "base_uri": "https://localhost:8080/"
        },
        "outputId": "a9156848-10f0-4d2a-eec7-f8035be853d4"
      },
      "execution_count": null,
      "outputs": [
        {
          "output_type": "stream",
          "name": "stdout",
          "text": [
            "Epoch 1/10\n",
            "66/66 [==============================] - 11s 145ms/step - loss: 1205.2673 - mae: 27.4294 - val_loss: 163.4628 - val_mae: 9.5302\n",
            "Epoch 2/10\n",
            "66/66 [==============================] - 8s 110ms/step - loss: 124.1566 - mae: 8.6900 - val_loss: 167.6811 - val_mae: 9.7828\n",
            "Epoch 3/10\n",
            "66/66 [==============================] - 8s 120ms/step - loss: 113.6134 - mae: 8.3102 - val_loss: 245.6411 - val_mae: 12.3028\n",
            "Epoch 4/10\n",
            "66/66 [==============================] - 9s 133ms/step - loss: 107.3501 - mae: 8.0845 - val_loss: 197.9769 - val_mae: 10.8656\n",
            "Epoch 5/10\n",
            "66/66 [==============================] - 7s 104ms/step - loss: 102.3963 - mae: 7.9045 - val_loss: 299.5378 - val_mae: 13.9346\n",
            "Epoch 6/10\n",
            "66/66 [==============================] - 7s 101ms/step - loss: 98.7546 - mae: 7.8029 - val_loss: 178.1538 - val_mae: 10.1462\n",
            "Epoch 7/10\n",
            "66/66 [==============================] - 9s 138ms/step - loss: 95.5438 - mae: 7.6753 - val_loss: 228.4790 - val_mae: 11.6745\n",
            "Epoch 8/10\n",
            "66/66 [==============================] - 8s 111ms/step - loss: 93.7589 - mae: 7.6135 - val_loss: 173.3888 - val_mae: 9.9997\n",
            "Epoch 9/10\n",
            "66/66 [==============================] - 8s 117ms/step - loss: 91.5354 - mae: 7.5673 - val_loss: 267.0558 - val_mae: 12.7701\n",
            "Epoch 10/10\n",
            "66/66 [==============================] - 8s 115ms/step - loss: 89.5440 - mae: 7.4841 - val_loss: 296.6126 - val_mae: 13.5422\n",
            "29/29 [==============================] - 1s 32ms/step - loss: 331.7343 - mae: 15.7337\n",
            "Test MAE: 15.73\n"
          ]
        }
      ]
    },
    {
      "cell_type": "code",
      "source": [
        "inputs = keras.Input(shape=(sequence_length, raw_data.shape[-1]))\n",
        "x = layers.LSTM(16)(inputs)\n",
        "outputs = layers.Dense(1)(x)\n",
        "model = keras.Model(inputs, outputs)\n",
        "\n",
        "callbacks = [\n",
        "    keras.callbacks.ModelCheckpoint(\"dollar_index_lstm.keras\",\n",
        "                                    save_best_only=True)\n",
        "]\n",
        "model.compile(optimizer=\"rmsprop\", loss=\"mse\", metrics=['mae'])\n",
        "history = model.fit(train_dataset,\n",
        "                    epochs=10,\n",
        "                    validation_data = val_dataset,\n",
        "                    callbacks = callbacks)\n",
        "model = keras.models.load_model(\"dollar_index_lstm.keras\")\n",
        "print(f\"Test MAE: {model.evaluate(test_dataset)[1]:.2f}\")"
      ],
      "metadata": {
        "colab": {
          "base_uri": "https://localhost:8080/"
        },
        "id": "9WHgKwxT4nX8",
        "outputId": "d1f71aa6-0212-4caa-d019-21918dec5726"
      },
      "execution_count": null,
      "outputs": [
        {
          "output_type": "stream",
          "name": "stdout",
          "text": [
            "Epoch 1/10\n",
            "66/66 [==============================] - 13s 150ms/step - loss: 2983.1716 - mae: 52.6681 - val_loss: 3074.2859 - val_mae: 54.4948\n",
            "Epoch 2/10\n",
            "66/66 [==============================] - 9s 133ms/step - loss: 2599.2537 - mae: 48.8819 - val_loss: 2668.9622 - val_mae: 50.5977\n",
            "Epoch 3/10\n",
            "66/66 [==============================] - 8s 123ms/step - loss: 2368.3645 - mae: 46.3755 - val_loss: 2475.7656 - val_mae: 48.6495\n",
            "Epoch 4/10\n",
            "66/66 [==============================] - 8s 115ms/step - loss: 2225.3083 - mae: 44.7921 - val_loss: 2338.5603 - val_mae: 47.2177\n",
            "Epoch 5/10\n",
            "66/66 [==============================] - 9s 129ms/step - loss: 2111.3821 - mae: 43.4981 - val_loss: 2224.0444 - val_mae: 45.9885\n",
            "Epoch 6/10\n",
            "66/66 [==============================] - 8s 121ms/step - loss: 2009.6013 - mae: 42.3116 - val_loss: 2118.5234 - val_mae: 44.8264\n",
            "Epoch 7/10\n",
            "66/66 [==============================] - 9s 128ms/step - loss: 1913.9653 - mae: 41.1685 - val_loss: 2018.0826 - val_mae: 43.6928\n",
            "Epoch 8/10\n",
            "66/66 [==============================] - 9s 136ms/step - loss: 1822.3260 - mae: 40.0452 - val_loss: 1921.0994 - val_mae: 42.5709\n",
            "Epoch 9/10\n",
            "66/66 [==============================] - 10s 143ms/step - loss: 1733.7551 - mae: 38.9333 - val_loss: 1827.0154 - val_mae: 41.4555\n",
            "Epoch 10/10\n",
            "66/66 [==============================] - 8s 119ms/step - loss: 1647.8951 - mae: 37.8300 - val_loss: 1735.5516 - val_mae: 40.3424\n",
            "29/29 [==============================] - 3s 43ms/step - loss: 2361.3813 - mae: 47.0656\n",
            "Test MAE: 47.07\n"
          ]
        }
      ]
    },
    {
      "cell_type": "code",
      "source": [
        "inputs = keras.Input(shape=(sequence_length, raw_data.shape[-1]))\n",
        "x = layers.LSTM(32, recurrent_dropout=0.25)(inputs)\n",
        "x = layers.Dropout(0.5)(x)\n",
        "outputs = layers.Dense(1)(x)\n",
        "model = keras.Model(inputs, outputs)\n",
        "\n",
        "callbacks = [\n",
        "    keras.callbacks.ModelCheckpoint(\"dollar_index_lstm_dropout.keras\",\n",
        "                                    save_best_only=True)\n",
        "]\n",
        "model.compile(optimizer=\"rmsprop\", loss=\"mse\", metrics=['mae'])\n",
        "history = model.fit(train_dataset,\n",
        "                    epochs=10,\n",
        "                    validation_data = val_dataset,\n",
        "                    callbacks = callbacks)\n",
        "model = keras.models.load_model(\"dollar_index_lstm_dropout.keras\")\n",
        "print(f\"Test MAE: {model.evaluate(test_dataset)[1]:.2f}\")"
      ],
      "metadata": {
        "colab": {
          "base_uri": "https://localhost:8080/"
        },
        "id": "RKSN8jzf4wD0",
        "outputId": "213a56a8-3cb7-4c46-b978-7e4913999ba6"
      },
      "execution_count": null,
      "outputs": [
        {
          "output_type": "stream",
          "name": "stdout",
          "text": [
            "Epoch 1/10\n",
            "66/66 [==============================] - 20s 250ms/step - loss: 2717.1091 - mae: 49.9198 - val_loss: 2552.4304 - val_mae: 49.4321\n",
            "Epoch 2/10\n",
            "66/66 [==============================] - 17s 248ms/step - loss: 2228.1614 - mae: 44.7710 - val_loss: 2256.1045 - val_mae: 46.3366\n",
            "Epoch 3/10\n",
            "66/66 [==============================] - 19s 286ms/step - loss: 1996.5087 - mae: 42.0966 - val_loss: 2042.6049 - val_mae: 43.9725\n",
            "Epoch 4/10\n",
            "66/66 [==============================] - 17s 248ms/step - loss: 1812.8120 - mae: 39.8414 - val_loss: 1853.9062 - val_mae: 41.7774\n",
            "Epoch 5/10\n",
            "66/66 [==============================] - 16s 244ms/step - loss: 1641.9390 - mae: 37.6743 - val_loss: 1677.6910 - val_mae: 39.6227\n",
            "Epoch 6/10\n",
            "66/66 [==============================] - 17s 255ms/step - loss: 1486.3593 - mae: 35.5723 - val_loss: 1511.5642 - val_mae: 37.4850\n",
            "Epoch 7/10\n",
            "66/66 [==============================] - 17s 252ms/step - loss: 1343.7916 - mae: 33.5432 - val_loss: 1355.1901 - val_mae: 35.3605\n",
            "Epoch 8/10\n",
            "66/66 [==============================] - 16s 242ms/step - loss: 1204.8271 - mae: 31.5007 - val_loss: 1208.0900 - val_mae: 33.2465\n",
            "Epoch 9/10\n",
            "66/66 [==============================] - 17s 256ms/step - loss: 1076.2347 - mae: 29.4791 - val_loss: 1069.9509 - val_mae: 31.1353\n",
            "Epoch 10/10\n",
            "66/66 [==============================] - 17s 252ms/step - loss: 967.3755 - mae: 27.6523 - val_loss: 941.7438 - val_mae: 29.0428\n",
            "29/29 [==============================] - 4s 78ms/step - loss: 1413.9475 - mae: 35.8693\n",
            "Test MAE: 35.87\n"
          ]
        }
      ]
    },
    {
      "cell_type": "code",
      "source": [
        "inputs = keras.Input(shape=(sequence_length, raw_data.shape[-1]))\n",
        "x = layers.Bidirectional(layers.LSTM(16))(inputs)\n",
        "outputs = layers.Dense(1)(x)\n",
        "model = keras.Model(inputs, outputs)\n",
        "\n",
        "callbacks = [\n",
        "    keras.callbacks.ModelCheckpoint(\"dollar_index_lstm_bidirectional.keras\",\n",
        "                                    save_best_only=True)\n",
        "]\n",
        "model.compile(optimizer=\"rmsprop\", loss=\"mse\", metrics=['mae'])\n",
        "history = model.fit(train_dataset,\n",
        "                    epochs=10,\n",
        "                    validation_data = val_dataset,\n",
        "                    callbacks = callbacks)\n",
        "model = keras.models.load_model(\"dollar_index_lstm_bidirectional.keras\")\n",
        "print(f\"Test MAE: {model.evaluate(test_dataset)[1]:.2f}\")"
      ],
      "metadata": {
        "colab": {
          "base_uri": "https://localhost:8080/"
        },
        "id": "zJ3UTSTO479f",
        "outputId": "a8809243-166b-4ad7-facf-129977898e1b"
      },
      "execution_count": null,
      "outputs": [
        {
          "output_type": "stream",
          "name": "stdout",
          "text": [
            "Epoch 1/10\n",
            "66/66 [==============================] - 18s 199ms/step - loss: 2919.9233 - mae: 52.0172 - val_loss: 2864.5469 - val_mae: 52.5173\n",
            "Epoch 2/10\n",
            "66/66 [==============================] - 12s 181ms/step - loss: 2381.3350 - mae: 46.5415 - val_loss: 2360.0432 - val_mae: 47.4502\n",
            "Epoch 3/10\n",
            "66/66 [==============================] - 13s 188ms/step - loss: 2033.7544 - mae: 42.6065 - val_loss: 2062.9561 - val_mae: 44.2050\n",
            "Epoch 4/10\n",
            "66/66 [==============================] - 13s 192ms/step - loss: 1799.2101 - mae: 39.7623 - val_loss: 1838.3136 - val_mae: 41.5921\n",
            "Epoch 5/10\n",
            "66/66 [==============================] - 13s 186ms/step - loss: 1610.9146 - mae: 37.3491 - val_loss: 1648.6543 - val_mae: 39.2574\n",
            "Epoch 6/10\n",
            "66/66 [==============================] - 13s 188ms/step - loss: 1446.3560 - mae: 35.1296 - val_loss: 1477.9264 - val_mae: 37.0382\n",
            "Epoch 7/10\n",
            "66/66 [==============================] - 13s 191ms/step - loss: 1296.6517 - mae: 33.0151 - val_loss: 1320.8352 - val_mae: 34.8779\n",
            "Epoch 8/10\n",
            "66/66 [==============================] - 13s 193ms/step - loss: 1158.6199 - mae: 30.9608 - val_loss: 1174.5616 - val_mae: 32.7465\n",
            "Epoch 9/10\n",
            "66/66 [==============================] - 14s 211ms/step - loss: 1030.7039 - mae: 28.9515 - val_loss: 1038.0549 - val_mae: 30.6279\n",
            "Epoch 10/10\n",
            "66/66 [==============================] - 13s 191ms/step - loss: 912.4501 - mae: 26.9914 - val_loss: 911.3868 - val_mae: 28.5255\n",
            "29/29 [==============================] - 5s 61ms/step - loss: 1376.4956 - mae: 35.3552\n",
            "Test MAE: 35.36\n"
          ]
        }
      ]
    }
  ]
}