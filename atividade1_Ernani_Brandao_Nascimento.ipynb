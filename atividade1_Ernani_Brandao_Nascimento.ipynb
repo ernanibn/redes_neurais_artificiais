{
  "cells": [
    {
      "cell_type": "markdown",
      "metadata": {
        "id": "view-in-github",
        "colab_type": "text"
      },
      "source": [
        "<a href=\"https://colab.research.google.com/github/ernanibn/redes_neurais_artificiais/blob/main/atividade1_Ernani_Brandao_Nascimento.ipynb\" target=\"_parent\"><img src=\"https://colab.research.google.com/assets/colab-badge.svg\" alt=\"Open In Colab\"/></a>"
      ]
    },
    {
      "cell_type": "code",
      "execution_count": 19,
      "metadata": {
        "id": "PPW0l2NxpdFU"
      },
      "outputs": [],
      "source": [
        "import numpy as np\n",
        "from sklearn.datasets import make_blobs\n",
        "import matplotlib.pyplot as plt\n",
        "\n",
        "def criaDataset(n=100, centros=3):\n",
        "  X, y = make_blobs(n_samples=n, centers=centros, cluster_std=0.2)\n",
        "  return X, y\n",
        "\n",
        "def plotDataset(X, y):\n",
        "  plt.xlabel(\"x1\")\n",
        "  plt.ylabel(\"x2\")\n",
        "  for k in set(y):\n",
        "    plt.plot(X[:,0][y==k],X[:,1][y==k], \"o\", alpha=0.3)\n"
      ]
    },
    {
      "cell_type": "code",
      "execution_count": 20,
      "metadata": {
        "id": "4sZEwaLLreaD"
      },
      "outputs": [],
      "source": [
        "from sklearn.base import BaseEstimator, ClassifierMixin\n",
        "from sklearn.metrics import accuracy_score\n",
        "\n",
        "def include_bias(X):\n",
        "  bias = np.ones((X.shape[0], 1))\n",
        "  Xb = np.concatenate((bias, X), axis=1)\n",
        "  return Xb\n",
        "\n",
        "def defineAxes(X):\n",
        "    offset = 0.5\n",
        "    min1, max1 = X[:, 0].min(), X[:, 0].max()\n",
        "    min2, max2 = X[:, 1].min(), X[:, 1].max()\n",
        "    return [min1-offset, max1+offset, min2-offset, max2+offset]\n",
        "\n",
        "def plotPredictions(clf, X):\n",
        "    axes = defineAxes(X)\n",
        "    x0s = np.linspace(axes[0], axes[1], 100)\n",
        "    x1s = np.linspace(axes[2], axes[3], 100)\n",
        "    x0, x1 = np.meshgrid(x0s, x1s)\n",
        "    X = np.c_[x0.ravel(), x1.ravel()]\n",
        "    y_pred = clf.predict(X).reshape(x0.shape)\n",
        "    plt.contourf(x0, x1, y_pred, cmap=plt.cm.brg, alpha=0.2)"
      ]
    },
    {
      "cell_type": "code",
      "execution_count": 21,
      "metadata": {
        "id": "N_p0Q7xmxifg"
      },
      "outputs": [],
      "source": [
        "from scipy.special import expit\n",
        "from abc import ABC, abstractmethod\n",
        "\n",
        "class ActivationFunction(ABC):\n",
        "  @abstractmethod\n",
        "  def forward(a):\n",
        "    pass\n",
        "  @abstractmethod\n",
        "  def backward(a):\n",
        "    pass\n",
        "\n",
        "class TanH(ActivationFunction):\n",
        "  def forward(self, a):\n",
        "    return expit(a)*2-1\n",
        "  def backward(self, a):\n",
        "    return (1 - np.square(self.forward(a)))\n",
        "\n",
        "class Sigmoid(ActivationFunction):\n",
        "  def forward(self, a):\n",
        "    return expit(a)\n",
        "  def backward(self, a):\n",
        "    return self.forward(a) * (1 - self.forward(a))"
      ]
    },
    {
      "cell_type": "code",
      "execution_count": 22,
      "metadata": {
        "id": "NzHeftfXz6eK"
      },
      "outputs": [],
      "source": [
        "from sklearn.preprocessing import label_binarize\n",
        "\n",
        "class Backpropagation(BaseEstimator, ClassifierMixin):\n",
        "  def __init__(self, max_iter=1000, learning_rate=0.001, n_hidden=[2],\n",
        "               activation=TanH()):\n",
        "    self.max_iter = max_iter\n",
        "    self.learning_rate = learning_rate\n",
        "    self.n_hidden = n_hidden\n",
        "    self.activation = activation\n",
        "\n",
        "  def forward(self, X):\n",
        "    self.A = []\n",
        "    self.Z = []\n",
        "    AUX = X.copy()\n",
        "    for W in self.Ws:\n",
        "      self.A.append(include_bias(AUX))\n",
        "      self.Z.append(self.A[-1] @ W)\n",
        "      AUX = self.activation.forward(self.Z[-1])\n",
        "    return AUX\n",
        "\n",
        "  def backward(self, X, y, ypred):\n",
        "    grads = []\n",
        "    output_delta = y - ypred\n",
        "    grads.insert(0, self.A[-1].T @ output_delta)\n",
        "    for i in range(len(self.Ws)-1, 0, -1):\n",
        "      tanh_grad = self.activation.backward(self.Z[i-1])\n",
        "      input_delta = (output_delta @ self.Ws[i][1:,:].T) * tanh_grad\n",
        "      grads.insert(0, self.A[i-1].T @ input_delta)\n",
        "      output_delta = input_delta.copy()\n",
        "    for i in range(len(self.Ws)-1, -1, -1):\n",
        "      self.Ws[i] += grads[i] * self.learning_rate\n",
        "\n",
        "  def encode_labels(self, y):\n",
        "    self.labels = list(set(y))\n",
        "    return label_binarize(y, classes=self.labels)\n",
        "\n",
        "  def fit(self, X, y):\n",
        "    yhot = self.encode_labels(y)\n",
        "    self.Ws = []\n",
        "    previous_output = X.shape[1]\n",
        "    for layer_size in self.n_hidden:\n",
        "      self.Ws.append(np.random.uniform(-1, 1, size=(previous_output+1, layer_size)))\n",
        "      previous_output = self.Ws[-1].shape[1]\n",
        "    self.Ws.append(np.random.uniform(-1, 1, size=(previous_output+1, yhot.shape[1])))\n",
        "    for _ in range(self.max_iter):\n",
        "      ypred = self.forward(X)\n",
        "      self.backward(X, yhot, ypred)\n",
        "\n",
        "  def predict(self, X):\n",
        "    a = self.forward(X)\n",
        "    if len(self.labels) <= 2:\n",
        "      idx = np.array(a > 0, dtype=int).reshape(-1,)\n",
        "    else:\n",
        "      idx = np.argmax(a, axis=1)\n",
        "    ypred = np.array([self.labels[i] for i in idx])\n",
        "    return ypred\n"
      ]
    },
    {
      "cell_type": "code",
      "execution_count": 23,
      "metadata": {
        "id": "N2Svo3e2riWc"
      },
      "outputs": [],
      "source": [
        "X, y = criaDataset(centros=4)"
      ]
    },
    {
      "cell_type": "code",
      "execution_count": 24,
      "metadata": {
        "id": "Z7CMtEiPK0Cp"
      },
      "outputs": [],
      "source": [
        "from sklearn.neural_network import MLPClassifier\n",
        "from sklearn.model_selection import cross_validate"
      ]
    },
    {
      "cell_type": "markdown",
      "metadata": {
        "id": "uIp90rVeriWd"
      },
      "source": [
        "### Comparação Implementação Manual vs Scikit-Learn"
      ]
    },
    {
      "cell_type": "markdown",
      "source": [
        "#### 1 Camada Oculta"
      ],
      "metadata": {
        "id": "ktdf6dnjwj1h"
      }
    },
    {
      "cell_type": "markdown",
      "metadata": {
        "id": "-uzJ-WV0riWd"
      },
      "source": [
        "##### Manual"
      ]
    },
    {
      "cell_type": "markdown",
      "metadata": {
        "id": "PkD0ujaxriWe"
      },
      "source": [
        "###### Plotar Gráfico"
      ]
    },
    {
      "cell_type": "code",
      "execution_count": 25,
      "metadata": {
        "id": "BbNhfeoEriWe",
        "outputId": "873c9f6f-e6f6-4ac4-ad96-08914646901e",
        "colab": {
          "base_uri": "https://localhost:8080/",
          "height": 0
        }
      },
      "outputs": [
        {
          "output_type": "display_data",
          "data": {
            "text/plain": [
              "<Figure size 640x480 with 1 Axes>"
            ],
            "image/png": "[encoded data removed]"
          },
          "metadata": {}
        }
      ],
      "source": [
        "clf = Backpropagation(n_hidden=[5], activation=TanH())\n",
        "clf.fit(X, y)\n",
        "plotDataset(X, y)\n",
        "plotPredictions(clf, X)\n",
        "ypred = clf.predict(X)"
      ]
    },
    {
      "cell_type": "markdown",
      "metadata": {
        "id": "Kr5VWL6ariWg"
      },
      "source": [
        "###### Cross-validate"
      ]
    },
    {
      "cell_type": "code",
      "execution_count": 26,
      "metadata": {
        "id": "LsAgX1uPriWh",
        "outputId": "5975dc13-42d1-4f06-d891-39cc30e10bc6",
        "colab": {
          "base_uri": "https://localhost:8080/"
        }
      },
      "outputs": [
        {
          "output_type": "stream",
          "name": "stdout",
          "text": [
            "[0.75 0.75 0.75 0.75 0.75] 0.75\n"
          ]
        }
      ],
      "source": [
        "scores = cross_validate(Backpropagation(), X, y)\n",
        "print(scores['test_score'], np.mean(scores['test_score']))\n",
        "score_manual_mean = np.mean(scores['test_score'])"
      ]
    },
    {
      "cell_type": "markdown",
      "metadata": {
        "id": "ENG9miGnriWi"
      },
      "source": [
        "##### Scikit-Learn"
      ]
    },
    {
      "cell_type": "markdown",
      "metadata": {
        "id": "ghzB4rbWriWi"
      },
      "source": [
        "###### Plotar Gráfico"
      ]
    },
    {
      "cell_type": "code",
      "execution_count": 27,
      "metadata": {
        "id": "HHuIHYX0riWi",
        "outputId": "d38c876b-fede-48ac-8766-61d8c29f251f",
        "colab": {
          "base_uri": "https://localhost:8080/",
          "height": 508
        }
      },
      "outputs": [
        {
          "output_type": "stream",
          "name": "stderr",
          "text": [
            "/usr/local/lib/python3.10/dist-packages/sklearn/neural_network/_multilayer_perceptron.py:686: ConvergenceWarning: Stochastic Optimizer: Maximum iterations (200) reached and the optimization hasn't converged yet.\n",
            "  warnings.warn(\n"
          ]
        },
        {
          "output_type": "display_data",
          "data": {
            "text/plain": [
              "<Figure size 640x480 with 1 Axes>"
            ],
            "image/png": "[encoded data removed]"
          },
          "metadata": {}
        }
      ],
      "source": [
        "clf = MLPClassifier(hidden_layer_sizes=[5], activation='tanh')\n",
        "clf.fit(X, y)\n",
        "plotDataset(X, y)\n",
        "plotPredictions(clf, X)\n",
        "ypred = clf.predict(X)"
      ]
    },
    {
      "cell_type": "markdown",
      "metadata": {
        "id": "a2hL90WJriWj"
      },
      "source": [
        "###### Cross-validate"
      ]
    },
    {
      "cell_type": "code",
      "execution_count": 28,
      "metadata": {
        "id": "VgZWLgPTriWj",
        "outputId": "985113d6-3770-4c58-d5be-24df12e49de5",
        "colab": {
          "base_uri": "https://localhost:8080/"
        }
      },
      "outputs": [
        {
          "output_type": "stream",
          "name": "stderr",
          "text": [
            "/usr/local/lib/python3.10/dist-packages/sklearn/neural_network/_multilayer_perceptron.py:686: ConvergenceWarning: Stochastic Optimizer: Maximum iterations (200) reached and the optimization hasn't converged yet.\n",
            "  warnings.warn(\n",
            "/usr/local/lib/python3.10/dist-packages/sklearn/neural_network/_multilayer_perceptron.py:686: ConvergenceWarning: Stochastic Optimizer: Maximum iterations (200) reached and the optimization hasn't converged yet.\n",
            "  warnings.warn(\n",
            "/usr/local/lib/python3.10/dist-packages/sklearn/neural_network/_multilayer_perceptron.py:686: ConvergenceWarning: Stochastic Optimizer: Maximum iterations (200) reached and the optimization hasn't converged yet.\n",
            "  warnings.warn(\n",
            "/usr/local/lib/python3.10/dist-packages/sklearn/neural_network/_multilayer_perceptron.py:686: ConvergenceWarning: Stochastic Optimizer: Maximum iterations (200) reached and the optimization hasn't converged yet.\n",
            "  warnings.warn(\n"
          ]
        },
        {
          "output_type": "stream",
          "name": "stdout",
          "text": [
            "[1. 1. 1. 1. 1.] 1.0\n"
          ]
        },
        {
          "output_type": "stream",
          "name": "stderr",
          "text": [
            "/usr/local/lib/python3.10/dist-packages/sklearn/neural_network/_multilayer_perceptron.py:686: ConvergenceWarning: Stochastic Optimizer: Maximum iterations (200) reached and the optimization hasn't converged yet.\n",
            "  warnings.warn(\n"
          ]
        }
      ],
      "source": [
        "scores = cross_validate(MLPClassifier(), X, y)\n",
        "print(scores['test_score'], np.mean(scores['test_score']))\n",
        "score_scikit_mean =  np.mean(scores['test_score'])"
      ]
    },
    {
      "cell_type": "markdown",
      "metadata": {
        "id": "mD2wQeVNriWk"
      },
      "source": [
        "##### Comparação"
      ]
    },
    {
      "cell_type": "code",
      "execution_count": 29,
      "metadata": {
        "id": "TVtGH5zQriWk",
        "outputId": "4fa3f1b0-9c74-43e8-9217-943b8397eeca",
        "colab": {
          "base_uri": "https://localhost:8080/"
        }
      },
      "outputs": [
        {
          "output_type": "execute_result",
          "data": {
            "text/plain": [
              "0.75"
            ]
          },
          "metadata": {},
          "execution_count": 29
        }
      ],
      "source": [
        "score_manual_mean/score_scikit_mean"
      ]
    },
    {
      "cell_type": "markdown",
      "source": [
        "#### 2 Camadas Ocultas"
      ],
      "metadata": {
        "id": "DaWBx5mexajN"
      }
    },
    {
      "cell_type": "markdown",
      "source": [
        "##### Manual"
      ],
      "metadata": {
        "id": "CwiEn4Rbxpxb"
      }
    },
    {
      "cell_type": "markdown",
      "source": [
        "###### Plotar Gráfico"
      ],
      "metadata": {
        "id": "lErdTFGtx7PF"
      }
    },
    {
      "cell_type": "code",
      "source": [
        "clf = Backpropagation(n_hidden=[5,2], activation=TanH())\n",
        "clf.fit(X, y)\n",
        "plotDataset(X, y)\n",
        "plotPredictions(clf, X)\n",
        "ypred = clf.predict(X)"
      ],
      "metadata": {
        "colab": {
          "base_uri": "https://localhost:8080/",
          "height": 453
        },
        "id": "AELVpMunyIxm",
        "outputId": "8024d31c-295b-4205-a497-35e88ddd00ed"
      },
      "execution_count": 30,
      "outputs": [
        {
          "output_type": "display_data",
          "data": {
            "text/plain": [
              "<Figure size 640x480 with 1 Axes>"
            ],
            "image/png": "[encoded data removed]"
          },
          "metadata": {}
        }
      ]
    },
    {
      "cell_type": "markdown",
      "source": [
        "###### Cross-validate"
      ],
      "metadata": {
        "id": "hv60PPsgx8VZ"
      }
    },
    {
      "cell_type": "code",
      "source": [
        "scores = cross_validate(Backpropagation(), X, y)\n",
        "print(scores['test_score'], np.mean(scores['test_score']))\n",
        "score_manual_mean = np.mean(scores['test_score'])"
      ],
      "metadata": {
        "colab": {
          "base_uri": "https://localhost:8080/"
        },
        "id": "tGRAJnORyN2a",
        "outputId": "51e977d5-9b15-413e-99ca-9b6c0deeb587"
      },
      "execution_count": 31,
      "outputs": [
        {
          "output_type": "stream",
          "name": "stdout",
          "text": [
            "[0.75 0.75 0.75 0.75 0.75] 0.75\n"
          ]
        }
      ]
    },
    {
      "cell_type": "markdown",
      "source": [
        "##### Scikit-Learn"
      ],
      "metadata": {
        "id": "UhQTIR7kxtPi"
      }
    },
    {
      "cell_type": "markdown",
      "source": [
        "###### Plotar Gráfico"
      ],
      "metadata": {
        "id": "X5xJyb1iyRGI"
      }
    },
    {
      "cell_type": "code",
      "source": [
        "clf = MLPClassifier(hidden_layer_sizes=[5,2], activation='tanh')\n",
        "clf.fit(X, y)\n",
        "plotDataset(X, y)\n",
        "plotPredictions(clf, X)\n",
        "ypred = clf.predict(X)"
      ],
      "metadata": {
        "colab": {
          "base_uri": "https://localhost:8080/",
          "height": 508
        },
        "id": "ibZYxWzHygQD",
        "outputId": "5e2ae89d-c072-4b5b-bf5a-f42d90674029"
      },
      "execution_count": 32,
      "outputs": [
        {
          "output_type": "stream",
          "name": "stderr",
          "text": [
            "/usr/local/lib/python3.10/dist-packages/sklearn/neural_network/_multilayer_perceptron.py:686: ConvergenceWarning: Stochastic Optimizer: Maximum iterations (200) reached and the optimization hasn't converged yet.\n",
            "  warnings.warn(\n"
          ]
        },
        {
          "output_type": "display_data",
          "data": {
            "text/plain": [
              "<Figure size 640x480 with 1 Axes>"
            ],
            "image/png": "[encoded data removed]"
          },
          "metadata": {}
        }
      ]
    },
    {
      "cell_type": "markdown",
      "source": [
        "###### Cross-validate"
      ],
      "metadata": {
        "id": "aVolqdXSyTT0"
      }
    },
    {
      "cell_type": "code",
      "source": [
        "scores = cross_validate(MLPClassifier(), X, y)\n",
        "print(scores['test_score'], np.mean(scores['test_score']))\n",
        "score_scikit_mean =  np.mean(scores['test_score'])"
      ],
      "metadata": {
        "colab": {
          "base_uri": "https://localhost:8080/"
        },
        "id": "HVjqkOyJyjXn",
        "outputId": "ed1fb66c-d582-4c5a-9dc3-0241795edc59"
      },
      "execution_count": 33,
      "outputs": [
        {
          "output_type": "stream",
          "name": "stderr",
          "text": [
            "/usr/local/lib/python3.10/dist-packages/sklearn/neural_network/_multilayer_perceptron.py:686: ConvergenceWarning: Stochastic Optimizer: Maximum iterations (200) reached and the optimization hasn't converged yet.\n",
            "  warnings.warn(\n",
            "/usr/local/lib/python3.10/dist-packages/sklearn/neural_network/_multilayer_perceptron.py:686: ConvergenceWarning: Stochastic Optimizer: Maximum iterations (200) reached and the optimization hasn't converged yet.\n",
            "  warnings.warn(\n",
            "/usr/local/lib/python3.10/dist-packages/sklearn/neural_network/_multilayer_perceptron.py:686: ConvergenceWarning: Stochastic Optimizer: Maximum iterations (200) reached and the optimization hasn't converged yet.\n",
            "  warnings.warn(\n",
            "/usr/local/lib/python3.10/dist-packages/sklearn/neural_network/_multilayer_perceptron.py:686: ConvergenceWarning: Stochastic Optimizer: Maximum iterations (200) reached and the optimization hasn't converged yet.\n",
            "  warnings.warn(\n"
          ]
        },
        {
          "output_type": "stream",
          "name": "stdout",
          "text": [
            "[1. 1. 1. 1. 1.] 1.0\n"
          ]
        },
        {
          "output_type": "stream",
          "name": "stderr",
          "text": [
            "/usr/local/lib/python3.10/dist-packages/sklearn/neural_network/_multilayer_perceptron.py:686: ConvergenceWarning: Stochastic Optimizer: Maximum iterations (200) reached and the optimization hasn't converged yet.\n",
            "  warnings.warn(\n"
          ]
        }
      ]
    },
    {
      "cell_type": "markdown",
      "source": [
        "##### Comparação"
      ],
      "metadata": {
        "id": "TmxQMla_yo2u"
      }
    },
    {
      "cell_type": "code",
      "source": [
        "score_manual_mean/score_scikit_mean"
      ],
      "metadata": {
        "colab": {
          "base_uri": "https://localhost:8080/"
        },
        "id": "l1qMqE6Myl7v",
        "outputId": "9aa408fd-5637-4d6d-8a4a-f5cab34f44fc"
      },
      "execution_count": 34,
      "outputs": [
        {
          "output_type": "execute_result",
          "data": {
            "text/plain": [
              "0.75"
            ]
          },
          "metadata": {},
          "execution_count": 34
        }
      ]
    }
  ],
  "metadata": {
    "colab": {
      "provenance": [],
      "include_colab_link": true
    },
    "kernelspec": {
      "display_name": "Python 3",
      "name": "python3"
    },
    "language_info": {
      "codemirror_mode": {
        "name": "ipython",
        "version": 3
      },
      "file_extension": ".py",
      "mimetype": "text/x-python",
      "name": "python",
      "nbconvert_exporter": "python",
      "pygments_lexer": "ipython3",
      "version": "3.10.12"
    }
  },
  "nbformat": 4,
  "nbformat_minor": 0
}